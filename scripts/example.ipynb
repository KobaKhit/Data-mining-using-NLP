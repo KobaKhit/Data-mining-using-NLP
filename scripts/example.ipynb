{
 "cells": [
  {
   "cell_type": "markdown",
   "metadata": {},
   "source": [
    "# Download data"
   ]
  },
  {
   "cell_type": "code",
   "execution_count": 1,
   "metadata": {
    "collapsed": false
   },
   "outputs": [
    {
     "name": "stdout",
     "output_type": "stream",
     "text": [
      "Total number of articles available:  62141\n",
      "Date range:  20160510 -> 20140101 \n",
      "\n",
      "economics :  4570\n",
      "politics :  19257\n",
      "espionage :  1158\n",
      "global+warming :  2017\n",
      "donald+trump :  5361\n",
      "hillary+clinton :  5937\n",
      "bernie+sanders :  2712\n",
      "guns :  3401\n",
      "cancer :  7717\n",
      "sex :  10011\n"
     ]
    }
   ],
   "source": [
    "from nytsnippetgetter import get_data\n",
    "\n",
    "# See how many pages are available for topics. One page is equivalent to 10 articles\n",
    "topics=['economics','politics','espionage','global+warming', 'donald+trump','hillary+clinton', \n",
    "        'bernie+sanders', 'guns', 'cancer', 'sex']\n",
    "\n",
    "get_data(topics,BEGINDATE=20140101, LIMITS=True)"
   ]
  },
  {
   "cell_type": "code",
   "execution_count": 2,
   "metadata": {
    "collapsed": false
   },
   "outputs": [
    {
     "name": "stdout",
     "output_type": "stream",
     "text": [
      "Topics:  ['economics', 'politics', 'espionage', 'global+warming', 'donald+trump', 'hillary+clinton', 'bernie+sanders', 'guns', 'cancer', 'sex']\n",
      "NPages:  [1500, 1500, 1500, 1500, 1500, 1500, 1500, 1500, 1500, 1500]\n",
      "Date range:  20160510 -> 20140101 \n",
      "\n",
      "Total documents:  15000\n",
      "Started download...\n",
      "economics is done | 1500/15000\n",
      "politics is done | 3000/15000\n",
      "espionage is done | 4500/15000\n",
      "global+warming is done | 6000/15000\n",
      "donald+trump is done | 7500/15000\n",
      "hillary+clinton is done | 9000/15000\n",
      "bernie+sanders is done | 10500/15000\n",
      "guns is done | 12000/15000\n",
      "cancer is done | 13500/15000\n",
      "sex is done | 15000/15000\n",
      "\n",
      "Total documents returned:  15000\n",
      "\n",
      "Done in  1181.795726776123 seconds\n"
     ]
    }
   ],
   "source": [
    "# Download articles. BEGINDATE, ENDDATE format is YYYYMMDD.\n",
    "# If FILENAME is not None saves a local copy with date prepended,\n",
    "# ex.g. 2016-05-05-example.json\n",
    "ndocs = [1500,1500,1500,1500,1500,1500,1500,1500,1500,1500]\n",
    "articles = get_data(topics, ndocs, BEGINDATE=20140101, FILENAME='example.json')"
   ]
  },
  {
   "cell_type": "code",
   "execution_count": 6,
   "metadata": {
    "collapsed": false
   },
   "outputs": [
    {
     "data": {
      "text/plain": [
       "{'abstract': None,\n",
       " 'author': 'THE ASSOCIATED PRESS',\n",
       " 'date_modified': '2016-05-10T21:58:07Z',\n",
       " 'date_published': '2016-05-10T13:19:32Z',\n",
       " 'keywords': [],\n",
       " 'lead_paragraph': 'Voters in West Virginia and Nebraska are casting primary ballots on Tuesday, but the only competitive presidential race that remains in the Democratic contest in West Virginia.',\n",
       " 'nytclass': '',\n",
       " 'section_name': {'content': 'us',\n",
       "  'display_name': 'U.S.',\n",
       "  'url': 'http://www.nytimes.com/section/us'},\n",
       " 'snippet': \"voted for the first time at an elementary school in nearby Scott Depot, West Virginia. The 18-year-old, who plans to study <strong>economics</strong> at Columbia University, voted for Clinton saying he doesn't like Sanders' proposal to raise the\",\n",
       " 'title': 'Voters in West Virginia and Nebraska Cast Primary Ballots',\n",
       " 'user_topic': 'economics',\n",
       " 'weburl': 'http://www.nytimes.com/aponline/2016/05/10/us/politics/ap-us-2016-election-voter-voices.html'}"
      ]
     },
     "execution_count": 6,
     "metadata": {},
     "output_type": "execute_result"
    }
   ],
   "source": [
    "articles[0]"
   ]
  },
  {
   "cell_type": "code",
   "execution_count": 7,
   "metadata": {
    "collapsed": false
   },
   "outputs": [
    {
     "data": {
      "text/plain": [
       "(8477, 15000)"
      ]
     },
     "execution_count": 7,
     "metadata": {},
     "output_type": "execute_result"
    }
   ],
   "source": [
    "len(set([x['snippet'] for x in articles])), len(articles)"
   ]
  },
  {
   "cell_type": "markdown",
   "metadata": {},
   "source": [
    "# Load saved data"
   ]
  },
  {
   "cell_type": "code",
   "execution_count": 9,
   "metadata": {
    "collapsed": false
   },
   "outputs": [
    {
     "data": {
      "text/plain": [
       "(15000, 8477)"
      ]
     },
     "execution_count": 9,
     "metadata": {},
     "output_type": "execute_result"
    }
   ],
   "source": [
    "# Load saved data into python\n",
    "import json\n",
    "\n",
    "with open('2016-05-11-example.json') as json_data:\n",
    "    articles = json.load(json_data)[\"data\"]\n",
    "\n",
    "articles[0]\n",
    "len(articles), len(set([ x['snippet'] for x in articles]))"
   ]
  }
 ],
 "metadata": {
  "kernelspec": {
   "display_name": "Python 3",
   "language": "python",
   "name": "python3"
  },
  "language_info": {
   "codemirror_mode": {
    "name": "ipython",
    "version": 3
   },
   "file_extension": ".py",
   "mimetype": "text/x-python",
   "name": "python",
   "nbconvert_exporter": "python",
   "pygments_lexer": "ipython3",
   "version": "3.5.1"
  }
 },
 "nbformat": 4,
 "nbformat_minor": 0
}
