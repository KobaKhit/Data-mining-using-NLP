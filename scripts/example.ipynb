{
 "cells": [
  {
   "cell_type": "markdown",
   "metadata": {},
   "source": [
    "# Download data"
   ]
  },
  {
   "cell_type": "code",
   "execution_count": 1,
   "metadata": {
    "collapsed": false
   },
   "outputs": [
    {
     "name": "stdout",
     "output_type": "stream",
     "text": [
      "Total number of pages available (each page is 10 articles): \n",
      "economics :  4644\n",
      "politics :  19451\n",
      "espionage :  1190\n",
      "global+warming :  2034\n",
      "clinton :  9462\n",
      "sanders :  3650\n",
      "guns :  3438\n",
      "cancer :  7810\n",
      "sex :  10141\n"
     ]
    }
   ],
   "source": [
    "from nytsnippetgetter import get_data\n",
    "\n",
    "# See how many pages are available for topics. One page is equivalent to 10 articles\n",
    "topics=['economics','politics','espionage','global+warming', 'clinton', 'sanders', 'guns', \n",
    "        'cancer', 'sex']\n",
    "\n",
    "get_data(topics,BEGINDATE = 20131213, LIMITS=True)"
   ]
  },
  {
   "cell_type": "code",
   "execution_count": 2,
   "metadata": {
    "collapsed": false
   },
   "outputs": [
    {
     "name": "stdout",
     "output_type": "stream",
     "text": [
      "Topics:  ['economics', 'politics', 'espionage', 'global+warming', 'clinton', 'sanders', 'guns', 'cancer', 'sex']\n",
      "NPages:  [1500, 1000, 500, 100, 100, 100, 100, 100, 100] \n",
      "\n",
      "Total documents:  36000\n",
      "Started download...\n",
      "economics is done | 1500/3600\n",
      "politics is done | 2500/3600\n",
      "espionage is done | 3000/3600\n",
      "global+warming is done | 3100/3600\n",
      "clinton is done | 3200/3600\n",
      "sanders is done | 3300/3600\n",
      "guns is done | 3400/3600\n",
      "cancer is done | 3500/3600\n",
      "sex is done | 3600/3600\n",
      "\n",
      "Done in  572.8990051746368 seconds\n"
     ]
    }
   ],
   "source": [
    "# Download articles. BEGINDATE, ENDDATE format is YYYYMMDD.\n",
    "# If FILENAME is not None saves a local copy with date prepended,\n",
    "# ex.g. 2016-05-05-example.json\n",
    "npages = [1500,1000,500,100,100,100,100,100,100]\n",
    "articles = get_data(topics,npages, BEGINDATE = 20131213, FILENAME='example.json')"
   ]
  },
  {
   "cell_type": "code",
   "execution_count": 8,
   "metadata": {
    "collapsed": false
   },
   "outputs": [
    {
     "data": {
      "text/plain": [
       "{'abstract': \"The Upshot; Spain's unemployment rate has been at 20 percent for more than five years, with youth jobless rate at 45.5. percent; possible causes of problem outlined. \",\n",
       " 'author': 'PETER EAVIS',\n",
       " 'date_modified': '2016-05-03T19:21:08Z',\n",
       " 'date_published': '2016-05-03T00:00:00Z',\n",
       " 'keywords': [{'is_major': 'Y',\n",
       "   'name': 'glocations',\n",
       "   'rank': '1',\n",
       "   'value': 'Spain'},\n",
       "  {'is_major': 'Y', 'name': 'subject', 'rank': '2', 'value': 'Unemployment'},\n",
       "  {'is_major': 'N', 'name': 'glocations', 'rank': '3', 'value': 'Europe'},\n",
       "  {'is_major': 'N', 'name': 'subject', 'rank': '4', 'value': 'Labor and Jobs'},\n",
       "  {'is_major': 'N',\n",
       "   'name': 'subject',\n",
       "   'rank': '5',\n",
       "   'value': 'Temporary Employment'}],\n",
       " 'lead_paragraph': 'Even with a recovering economy, high unemployment (20 percent) is part of life, and youth unemployment is at 45.5 percent.',\n",
       " 'nytclass': 'Labor; Unemployment',\n",
       " 'section_name': {'content': 'upshot',\n",
       "  'display_name': 'The Upshot',\n",
       "  'url': 'http://www.nytimes.com/section/upshot'},\n",
       " 'snippet': 'Even with a recovering economy, high unemployment (20 percent) is part of life, and youth unemployment is at 45.5 percent.',\n",
       " 'title': 'The Mystery of Spain’s Perpetual Jobs Problem',\n",
       " 'user_topic': 'economics',\n",
       " 'weburl': 'http://www.nytimes.com/2016/05/03/upshot/spains-jobless-numbers-almost-look-like-misprints.html'}"
      ]
     },
     "execution_count": 8,
     "metadata": {},
     "output_type": "execute_result"
    }
   ],
   "source": [
    "articles[0]"
   ]
  },
  {
   "cell_type": "markdown",
   "metadata": {},
   "source": [
    "# Load saved data"
   ]
  },
  {
   "cell_type": "code",
   "execution_count": 6,
   "metadata": {
    "collapsed": false
   },
   "outputs": [
    {
     "data": {
      "text/plain": [
       "{'abstract': \"The Upshot; Spain's unemployment rate has been at 20 percent for more than five years, with youth jobless rate at 45.5. percent; possible causes of problem outlined. \",\n",
       " 'author': 'PETER EAVIS',\n",
       " 'date_modified': '2016-05-03T19:21:08Z',\n",
       " 'date_published': '2016-05-03T00:00:00Z',\n",
       " 'keywords': [{'is_major': 'Y',\n",
       "   'name': 'glocations',\n",
       "   'rank': '1',\n",
       "   'value': 'Spain'},\n",
       "  {'is_major': 'Y', 'name': 'subject', 'rank': '2', 'value': 'Unemployment'},\n",
       "  {'is_major': 'N', 'name': 'glocations', 'rank': '3', 'value': 'Europe'},\n",
       "  {'is_major': 'N', 'name': 'subject', 'rank': '4', 'value': 'Labor and Jobs'},\n",
       "  {'is_major': 'N',\n",
       "   'name': 'subject',\n",
       "   'rank': '5',\n",
       "   'value': 'Temporary Employment'}],\n",
       " 'lead_paragraph': 'Even with a recovering economy, high unemployment (20 percent) is part of life, and youth unemployment is at 45.5 percent.',\n",
       " 'nytclass': 'Labor; Unemployment',\n",
       " 'section_name': {'content': 'upshot',\n",
       "  'display_name': 'The Upshot',\n",
       "  'url': 'http://www.nytimes.com/section/upshot'},\n",
       " 'snippet': 'Even with a recovering economy, high unemployment (20 percent) is part of life, and youth unemployment is at 45.5 percent.',\n",
       " 'title': 'The Mystery of Spain’s Perpetual Jobs Problem',\n",
       " 'user_topic': 'economics',\n",
       " 'weburl': 'http://www.nytimes.com/2016/05/03/upshot/spains-jobless-numbers-almost-look-like-misprints.html'}"
      ]
     },
     "execution_count": 6,
     "metadata": {},
     "output_type": "execute_result"
    }
   ],
   "source": [
    "# Load saved data into python\n",
    "import json\n",
    "\n",
    "with open('2016-05-05-example.json') as json_data:\n",
    "    articles = json.load(json_data)[\"data\"]\n",
    "\n",
    "articles[0]"
   ]
  }
 ],
 "metadata": {
  "kernelspec": {
   "display_name": "Python 3",
   "language": "python",
   "name": "python3"
  },
  "language_info": {
   "codemirror_mode": {
    "name": "ipython",
    "version": 3
   },
   "file_extension": ".py",
   "mimetype": "text/x-python",
   "name": "python",
   "nbconvert_exporter": "python",
   "pygments_lexer": "ipython3",
   "version": "3.5.1"
  }
 },
 "nbformat": 4,
 "nbformat_minor": 0
}
