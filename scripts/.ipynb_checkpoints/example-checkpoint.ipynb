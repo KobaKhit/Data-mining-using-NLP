{
 "cells": [
  {
   "cell_type": "markdown",
   "metadata": {},
   "source": [
    "# Download data"
   ]
  },
  {
   "cell_type": "code",
   "execution_count": 1,
   "metadata": {
    "collapsed": false
   },
   "outputs": [
    {
     "name": "stdout",
     "output_type": "stream",
     "text": [
      "Total number of pages available (each page is 10 articles): \n",
      "bernie+sanders :  2672\n",
      "hillary+clinton :  4991\n",
      "donald+trump :  5071\n"
     ]
    }
   ],
   "source": [
    "from nytsnippetgetter import get_data\n",
    "\n",
    "# See how many pages are available for topics. One page is equivalent to 10 articles\n",
    "topics = [\"bernie+sanders\",\"hillary+clinton\",\"donald+trump\"]\n",
    "get_data(topics,BEGINDATE = 20150101, LIMITS=True)"
   ]
  },
  {
   "cell_type": "code",
   "execution_count": 2,
   "metadata": {
    "collapsed": false
   },
   "outputs": [
    {
     "name": "stdout",
     "output_type": "stream",
     "text": [
      "Topics:  ['bernie+sanders', 'hillary+clinton', 'donald+trump']\n",
      "NPages:  [100, 100, 100] \n",
      "\n",
      "Total documents:  3000\n",
      "Started download...\n",
      "bernie+sanders is done | 100/300\n",
      "hillary+clinton is done | 200/300\n",
      "donald+trump is done | 300/300\n",
      "\n",
      "Done in  31.600661993026733 seconds\n"
     ]
    }
   ],
   "source": [
    "# Download articles. BEGINDATE, ENDDATE format is YYYYMMDD.\n",
    "# If FILENAME is not None saves a local copy\n",
    "npages = [100,100,100]\n",
    "articles = get_data(topics,npages, BEGINDATE = 20150101, FILENAME='example.json')"
   ]
  },
  {
   "cell_type": "code",
   "execution_count": 3,
   "metadata": {
    "collapsed": false
   },
   "outputs": [
    {
     "data": {
      "text/plain": [
       "{'abstract': \"Editorial underscores how Sen Bernie Sanders's campaign for president has benefited Democratic Party, particularly in reminder it has given party of lingering economic pain many Americans are experiencing; calls on Hillary Clinton and other party leaders to work to incorporate Sanders and his supporters in party's voting coalition.\",\n",
       " 'author': 'THE EDITORIAL BOARD',\n",
       " 'date_modified': '2016-05-03T17:02:07Z',\n",
       " 'date_published': '2016-05-03T00:00:00Z',\n",
       " 'keywords': [{'is_major': 'Y',\n",
       "   'name': 'subject',\n",
       "   'rank': '1',\n",
       "   'value': 'Editorials'},\n",
       "  {'is_major': 'Y',\n",
       "   'name': 'subject',\n",
       "   'rank': '2',\n",
       "   'value': 'Presidential Election of 2016'},\n",
       "  {'is_major': 'Y',\n",
       "   'name': 'subject',\n",
       "   'rank': '3',\n",
       "   'value': 'United States Economy'},\n",
       "  {'is_major': 'Y',\n",
       "   'name': 'persons',\n",
       "   'rank': '4',\n",
       "   'value': 'Clinton, Hillary Rodham'},\n",
       "  {'is_major': 'N',\n",
       "   'name': 'organizations',\n",
       "   'rank': '5',\n",
       "   'value': 'Democratic Party'},\n",
       "  {'is_major': 'N',\n",
       "   'name': 'subject',\n",
       "   'rank': '6',\n",
       "   'value': 'Primaries and Caucuses'},\n",
       "  {'is_major': 'Y',\n",
       "   'name': 'persons',\n",
       "   'rank': '7',\n",
       "   'value': 'Sanders, Bernard'}],\n",
       " 'lead_paragraph': 'Mr. Sanders’s voice has elevated this campaign. The Democratic Party should listen.',\n",
       " 'nytclass': 'Elections; Politics and Government; United States Economy; Primaries',\n",
       " 'section_name': {'content': 'opinion',\n",
       "  'display_name': 'Opinion',\n",
       "  'url': 'http://www.nytimes.com/pages/opinion/index.html'},\n",
       " 'snippet': 'Though some opinion polls on Tuesday’s primary in Indiana show <strong>Bernie</strong> <strong>Sanders</strong> and Hillary Clinton in a tight race, the plunge in Mr. Sanders’s latest fund-raising numbers makes clear what he doesn’t yet want',\n",
       " 'title': 'Bernie Sanders’s Gift to His Party',\n",
       " 'user_topic': 'bernie+sanders',\n",
       " 'weburl': 'http://www.nytimes.com/2016/05/03/opinion/bernie-sanderss-gift-to-his-party.html'}"
      ]
     },
     "execution_count": 3,
     "metadata": {},
     "output_type": "execute_result"
    }
   ],
   "source": [
    "articles[1]"
   ]
  },
  {
   "cell_type": "markdown",
   "metadata": {},
   "source": [
    "# Load saved data"
   ]
  },
  {
   "cell_type": "code",
   "execution_count": 4,
   "metadata": {
    "collapsed": false
   },
   "outputs": [
    {
     "data": {
      "text/plain": [
       "{'abstract': \"Editorial underscores how Sen Bernie Sanders's campaign for president has benefited Democratic Party, particularly in reminder it has given party of lingering economic pain many Americans are experiencing; calls on Hillary Clinton and other party leaders to work to incorporate Sanders and his supporters in party's voting coalition.\",\n",
       " 'author': 'THE EDITORIAL BOARD',\n",
       " 'date_modified': '2016-05-03T17:02:07Z',\n",
       " 'date_published': '2016-05-03T00:00:00Z',\n",
       " 'keywords': [{'is_major': 'Y',\n",
       "   'name': 'subject',\n",
       "   'rank': '1',\n",
       "   'value': 'Editorials'},\n",
       "  {'is_major': 'Y',\n",
       "   'name': 'subject',\n",
       "   'rank': '2',\n",
       "   'value': 'Presidential Election of 2016'},\n",
       "  {'is_major': 'Y',\n",
       "   'name': 'subject',\n",
       "   'rank': '3',\n",
       "   'value': 'United States Economy'},\n",
       "  {'is_major': 'Y',\n",
       "   'name': 'persons',\n",
       "   'rank': '4',\n",
       "   'value': 'Clinton, Hillary Rodham'},\n",
       "  {'is_major': 'N',\n",
       "   'name': 'organizations',\n",
       "   'rank': '5',\n",
       "   'value': 'Democratic Party'},\n",
       "  {'is_major': 'N',\n",
       "   'name': 'subject',\n",
       "   'rank': '6',\n",
       "   'value': 'Primaries and Caucuses'},\n",
       "  {'is_major': 'Y',\n",
       "   'name': 'persons',\n",
       "   'rank': '7',\n",
       "   'value': 'Sanders, Bernard'}],\n",
       " 'lead_paragraph': 'Mr. Sanders’s voice has elevated this campaign. The Democratic Party should listen.',\n",
       " 'nytclass': 'Elections; Politics and Government; United States Economy; Primaries',\n",
       " 'section_name': {'content': 'opinion',\n",
       "  'display_name': 'Opinion',\n",
       "  'url': 'http://www.nytimes.com/pages/opinion/index.html'},\n",
       " 'snippet': 'Though some opinion polls on Tuesday’s primary in Indiana show <strong>Bernie</strong> <strong>Sanders</strong> and Hillary Clinton in a tight race, the plunge in Mr. Sanders’s latest fund-raising numbers makes clear what he doesn’t yet want',\n",
       " 'title': 'Bernie Sanders’s Gift to His Party',\n",
       " 'user_topic': 'bernie+sanders',\n",
       " 'weburl': 'http://www.nytimes.com/2016/05/03/opinion/bernie-sanderss-gift-to-his-party.html'}"
      ]
     },
     "execution_count": 4,
     "metadata": {},
     "output_type": "execute_result"
    }
   ],
   "source": [
    "# Load saved data into python\n",
    "import json\n",
    "\n",
    "with open('2016-05-05-example.json') as json_data:\n",
    "    articles = json.load(json_data)[\"data\"]\n",
    "\n",
    "articles[1]"
   ]
  }
 ],
 "metadata": {
  "kernelspec": {
   "display_name": "Python 3",
   "language": "python",
   "name": "python3"
  },
  "language_info": {
   "codemirror_mode": {
    "name": "ipython",
    "version": 3
   },
   "file_extension": ".py",
   "mimetype": "text/x-python",
   "name": "python",
   "nbconvert_exporter": "python",
   "pygments_lexer": "ipython3",
   "version": "3.5.1"
  }
 },
 "nbformat": 4,
 "nbformat_minor": 0
}
