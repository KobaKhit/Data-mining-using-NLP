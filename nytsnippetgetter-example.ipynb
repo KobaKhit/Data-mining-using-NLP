{
 "cells": [
  {
   "cell_type": "markdown",
   "metadata": {},
   "source": [
    "# Example of downloading articles\n",
    "\n",
    "The `nytsnippetgetter.py` should be in the python modules PATH or in the same working directory.\n",
    "\n",
    "Below is the function definition\n",
    "\n",
    "```\n",
    "get_data(TOPICS, NDOCS=None, BEGINDATE=None, ENDDATE=None, VERBOSE=0, LIMITS=False,\n",
    "    FILENAME=None):\n",
    "    # Downloads data about articles from nytimes.com\n",
    "    #   - TOPICS = list of topics, ex.g. [\"economics\", \"globale warming\"]\n",
    "    #   - NDOCS = list of integers which sets the number of pages to download \n",
    "    #     for the topics, ex.g. [10, 15]. One page is equal to 10 articles.\n",
    "          Should be either the same length as topics or a list with single number for \n",
    "          all topics\n",
    "    #   - BEGINDATE, ENDDATE - integer which limits the published date range, YYYYMMDD\n",
    "    #   - VERBOSE = boolean, display links\n",
    "    #   - LIMITS = boolean,display number of pages available for each topic. \n",
    "                   If True then data is not downloaded.\n",
    "```\n",
    "\n",
    "Some examples."
   ]
  },
  {
   "cell_type": "code",
   "execution_count": 6,
   "metadata": {
    "collapsed": false
   },
   "outputs": [
    {
     "name": "stdout",
     "output_type": "stream",
     "text": [
      "Topics:  ['economics', 'politics', 'espionage', 'global+warming', 'donald+trump', 'hillary+clinton', 'bernie+sanders', 'guns', 'cancer', 'sex']\n",
      "Documents:  [4664, 19720, 1177, 2087, 5884, 6370, 2982, 3469, 7873, 10317]\n",
      "Date range:  2014-01-01 -> 2016-06-08 \n",
      "\n",
      "Total documents:  64543\n"
     ]
    }
   ],
   "source": [
    "from nytsnippetgetter import get_data\n",
    "\n",
    "# See how many pages are available for topics. One page is equivalent to 10 articles\n",
    "topics=['economics','politics','espionage','global+warming', 'donald+trump','hillary+clinton', \n",
    "        'bernie+sanders', 'guns', 'cancer', 'sex']\n",
    "\n",
    "get_data(topics, BEGINDATE=20140101, LIMITS=True)"
   ]
  },
  {
   "cell_type": "code",
   "execution_count": 5,
   "metadata": {
    "collapsed": false
   },
   "outputs": [
    {
     "name": "stdout",
     "output_type": "stream",
     "text": [
      "Topics:  ['']\n",
      "Documents:  [314552]\n",
      "Date range:  2014-01-01 -> 2016-06-08 \n",
      "\n",
      "Total documents:  314552\n"
     ]
    }
   ],
   "source": [
    "# See how many articles are available between 2014-01-01 and today\n",
    "get_data(None, BEGINDATE=20140101, LIMITS=True)"
   ]
  },
  {
   "cell_type": "code",
   "execution_count": 7,
   "metadata": {
    "collapsed": false
   },
   "outputs": [
    {
     "name": "stdout",
     "output_type": "stream",
     "text": [
      "Topics:  ['economics', 'politics', 'espionage', 'global+warming', 'donald+trump', 'hillary+clinton', 'bernie+sanders', 'guns', 'cancer', 'sex']\n",
      "Documents:  [1500, 1500, 1500, 1500, 1500, 1500, 1500, 1500, 1500, 1500]\n",
      "Date range:  2014-01-01 -> 2016-06-08 \n",
      "\n",
      "Total documents:  15000\n",
      "Started download...\n",
      "economics is done | 1500/15000\n",
      "politics is done | 1500/15000\n",
      "espionage is done | 1500/15000\n",
      "global+warming is done | 1500/15000\n",
      "donald+trump is done | 1500/15000\n",
      "hillary+clinton is done | 1500/15000\n",
      "bernie+sanders is done | 1500/15000\n",
      "guns is done | 1500/15000\n",
      "cancer is done | 1500/15000\n",
      "sex is done | 1500/15000\n",
      "\n",
      "Total documents returned:  15000\n",
      "\n",
      "Done in  733.4983870983124 seconds\n"
     ]
    }
   ],
   "source": [
    "# Download articles. BEGINDATE, ENDDATE format is YYYYMMDD.\n",
    "# If FILENAME is not None saves a local copy with date prepended,\n",
    "# ex.g. 2016-05-05-example.json.\n",
    "#\n",
    "# ndocs specifies the number of articles to download for each topic. You can define number \n",
    "# like below or specify a distinct number for each topic in the list. \n",
    "ndocs = [1500]\n",
    "articles = get_data(topics, ndocs, BEGINDATE=20140101, FILENAME='example.json')"
   ]
  },
  {
   "cell_type": "code",
   "execution_count": 6,
   "metadata": {
    "collapsed": false
   },
   "outputs": [
    {
     "data": {
      "text/plain": [
       "{'abstract': None,\n",
       " 'author': 'THE ASSOCIATED PRESS',\n",
       " 'date_modified': '2016-05-10T21:58:07Z',\n",
       " 'date_published': '2016-05-10T13:19:32Z',\n",
       " 'keywords': [],\n",
       " 'lead_paragraph': 'Voters in West Virginia and Nebraska are casting primary ballots on Tuesday, but the only competitive presidential race that remains in the Democratic contest in West Virginia.',\n",
       " 'nytclass': '',\n",
       " 'section_name': {'content': 'us',\n",
       "  'display_name': 'U.S.',\n",
       "  'url': 'http://www.nytimes.com/section/us'},\n",
       " 'snippet': \"voted for the first time at an elementary school in nearby Scott Depot, West Virginia. The 18-year-old, who plans to study <strong>economics</strong> at Columbia University, voted for Clinton saying he doesn't like Sanders' proposal to raise the\",\n",
       " 'title': 'Voters in West Virginia and Nebraska Cast Primary Ballots',\n",
       " 'user_topic': 'economics',\n",
       " 'weburl': 'http://www.nytimes.com/aponline/2016/05/10/us/politics/ap-us-2016-election-voter-voices.html'}"
      ]
     },
     "execution_count": 6,
     "metadata": {},
     "output_type": "execute_result"
    }
   ],
   "source": [
    "articles[0]"
   ]
  },
  {
   "cell_type": "code",
   "execution_count": 7,
   "metadata": {
    "collapsed": false
   },
   "outputs": [
    {
     "data": {
      "text/plain": [
       "(8477, 15000)"
      ]
     },
     "execution_count": 7,
     "metadata": {},
     "output_type": "execute_result"
    }
   ],
   "source": [
    "len(set([x['snippet'] for x in articles])), len(articles)"
   ]
  },
  {
   "cell_type": "markdown",
   "metadata": {},
   "source": [
    "# Load saved data"
   ]
  },
  {
   "cell_type": "code",
   "execution_count": 9,
   "metadata": {
    "collapsed": false
   },
   "outputs": [
    {
     "data": {
      "text/plain": [
       "(15000, 8477)"
      ]
     },
     "execution_count": 9,
     "metadata": {},
     "output_type": "execute_result"
    }
   ],
   "source": [
    "# Load saved data into python\n",
    "import json\n",
    "\n",
    "with open('data/2016-06-08-example.json') as json_data:\n",
    "    articles = json.load(json_data)[\"data\"]\n",
    "\n",
    "articles[0]\n",
    "len(articles), len(set([ x['snippet'] for x in articles]))"
   ]
  }
 ],
 "metadata": {
  "kernelspec": {
   "display_name": "Python 3",
   "language": "python",
   "name": "python3"
  },
  "language_info": {
   "codemirror_mode": {
    "name": "ipython",
    "version": 3
   },
   "file_extension": ".py",
   "mimetype": "text/x-python",
   "name": "python",
   "nbconvert_exporter": "python",
   "pygments_lexer": "ipython3",
   "version": "3.5.1"
  }
 },
 "nbformat": 4,
 "nbformat_minor": 0
}
